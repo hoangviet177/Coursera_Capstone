{
    "cells": [
        {
            "cell_type": "markdown",
            "metadata": {
                "collapsed": true
            },
            "source": "# Coursera Capstone Project"
        },
        {
            "cell_type": "markdown",
            "metadata": {},
            "source": "**My name is Viet, I am learning Data Analysis**  \n"
        },
        {
            "cell_type": "markdown",
            "metadata": {},
            "source": "*I am interested in Data Science because I want to explore the insights behind the big data existing around me everyday. From the results of Data Science Research, I could find out the solution for a problem in our company and help it to develop more and more.*"
        },
        {
            "cell_type": "code",
            "execution_count": 1,
            "metadata": {},
            "outputs": [],
            "source": "import pandas as pd\nimport numpy as np"
        },
        {
            "cell_type": "code",
            "execution_count": 2,
            "metadata": {},
            "outputs": [
                {
                    "name": "stdout",
                    "output_type": "stream",
                    "text": "Hello Capstone Project Course!\n"
                }
            ],
            "source": "print('Hello Capstone Project Course!')"
        },
        {
            "cell_type": "markdown",
            "metadata": {},
            "source": "> Just do it now, _\"I will do it tomorrow\"_ may become **NEVER**  \n\n![alt text](https://images.unsplash.com/photo-1507525428034-b723cf961d3e?ixlib=rb-1.2.1&ixid=eyJhcHBfaWQiOjExMjU4fQ&w=1000&q=80 \"Beautiful beach make you relaxed\")  \n\n[Click here to search for more beautiful beaches](https://www.google.com/search?q=beach&tbm=isch&ved=2ahUKEwi10cf8vOHnAhUT6jgGHWb5DnAQ2-cCegQIABAA&oq=beach&gs_l=img.3..0l3j0i67j0l6.55800.56961..57489...0.0..0.141.443.4j1......0....1..gws-wiz-img.......35i39.RjbXLigO4So&ei=FzBPXvXpG5PU4-EP5vK7gAc&bih=1089&biw=1920&rlz=1C1CHBF_enVN815VN815&safe=active)"
        },
        {
            "cell_type": "code",
            "execution_count": null,
            "metadata": {},
            "outputs": [],
            "source": ""
        }
    ],
    "metadata": {
        "kernelspec": {
            "display_name": "Python 3.6",
            "language": "python",
            "name": "python3"
        },
        "language_info": {
            "codemirror_mode": {
                "name": "ipython",
                "version": 3
            },
            "file_extension": ".py",
            "mimetype": "text/x-python",
            "name": "python",
            "nbconvert_exporter": "python",
            "pygments_lexer": "ipython3",
            "version": "3.6.9"
        }
    },
    "nbformat": 4,
    "nbformat_minor": 1
}